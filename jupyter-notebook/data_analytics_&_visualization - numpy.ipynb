{
 "cells": [
  {
   "cell_type": "code",
   "execution_count": 3,
   "metadata": {},
   "outputs": [],
   "source": [
    "import numpy as np"
   ]
  },
  {
   "cell_type": "code",
   "execution_count": 9,
   "metadata": {},
   "outputs": [
    {
     "data": {
      "text/plain": [
       "array([0, 1, 2, 3, 4, 5, 6, 7, 8, 9])"
      ]
     },
     "execution_count": 9,
     "metadata": {},
     "output_type": "execute_result"
    }
   ],
   "source": [
    "# One Dimentional Array\n",
    "\n",
    "one_dim_array = np.arange(10)\n",
    "one_dim_array"
   ]
  },
  {
   "cell_type": "code",
   "execution_count": 11,
   "metadata": {},
   "outputs": [
    {
     "data": {
      "text/plain": [
       "array([0.        , 1.        , 1.41421356, 1.73205081, 2.        ,\n",
       "       2.23606798, 2.44948974, 2.64575131, 2.82842712, 3.        ])"
      ]
     },
     "execution_count": 11,
     "metadata": {},
     "output_type": "execute_result"
    }
   ],
   "source": [
    "np.square(one_dim_array)\n",
    "np.sqrt(one_dim_array)"
   ]
  },
  {
   "cell_type": "code",
   "execution_count": 12,
   "metadata": {},
   "outputs": [
    {
     "name": "stdout",
     "output_type": "stream",
     "text": [
      "one_dim_array =  [0 1 2 3 4 5 6 7 8 9]\n",
      "\n",
      "\n",
      "9\n",
      "0\n",
      "4.5\n",
      "2.8722813232690143\n",
      "8.25\n"
     ]
    }
   ],
   "source": [
    "# Statics of Array\n",
    "print('one_dim_array = ', one_dim_array)\n",
    "print('\\n')\n",
    "print(np.max(one_dim_array))\n",
    "print(np.min(one_dim_array))\n",
    "print(np.mean(one_dim_array))\n",
    "print(np.std(one_dim_array))\n",
    "print(np.var(one_dim_array))"
   ]
  },
  {
   "cell_type": "code",
   "execution_count": 13,
   "metadata": {},
   "outputs": [
    {
     "name": "stdout",
     "output_type": "stream",
     "text": [
      "one_dim_array =  [0 1 2 3 4 5 6 7 8 9]\n",
      "\n",
      "\n",
      "[0 1 2 3 4]\n",
      "[5 6 7 8 9]\n",
      "[4 5 6]\n",
      "[0 2 4 6 8]\n",
      "[1 3 5 7 9]\n",
      "[9 8 7 6 5 4 3 2 1 0]\n"
     ]
    }
   ],
   "source": [
    "# Slicing of Array\n",
    "print('one_dim_array = ', one_dim_array)\n",
    "print('\\n')\n",
    "\n",
    "print(one_dim_array[:5])\n",
    "print(one_dim_array[5:])\n",
    "print(one_dim_array[4:7])\n",
    "print(one_dim_array[::2])\n",
    "print(one_dim_array[1::2])\n",
    "print(one_dim_array[::-1])"
   ]
  },
  {
   "cell_type": "code",
   "execution_count": 14,
   "metadata": {},
   "outputs": [
    {
     "name": "stdout",
     "output_type": "stream",
     "text": [
      "one_dim_array =  [0 1 2 3 4 5 6 7 8 9]\n",
      "\n",
      "\n",
      "(10,)\n",
      "10\n",
      "int64\n",
      "1\n"
     ]
    }
   ],
   "source": [
    "# Properties of Array\n",
    "print('one_dim_array = ', one_dim_array)\n",
    "print('\\n')\n",
    "\n",
    "print(one_dim_array.shape)\n",
    "print(one_dim_array.size)\n",
    "print(one_dim_array.dtype)\n",
    "print(one_dim_array.ndim)\n",
    "\n",
    "demo = one_dim_array.astype('float')"
   ]
  },
  {
   "cell_type": "code",
   "execution_count": 15,
   "metadata": {},
   "outputs": [
    {
     "data": {
      "text/plain": [
       "dtype('float64')"
      ]
     },
     "execution_count": 15,
     "metadata": {},
     "output_type": "execute_result"
    }
   ],
   "source": [
    "demo.dtype"
   ]
  },
  {
   "cell_type": "code",
   "execution_count": 16,
   "metadata": {},
   "outputs": [
    {
     "data": {
      "text/plain": [
       "([1, 2, 3], [4, 2, 6], [3, 8, 9])"
      ]
     },
     "execution_count": 16,
     "metadata": {},
     "output_type": "execute_result"
    }
   ],
   "source": [
    "# List is not an Array\n",
    "\n",
    "demo_list = ([1, 2, 3], [4, 2, 6], [3, 8, 9])\n",
    "demo_list"
   ]
  },
  {
   "cell_type": "code",
   "execution_count": 17,
   "metadata": {},
   "outputs": [
    {
     "ename": "TypeError",
     "evalue": "can only concatenate tuple (not \"int\") to tuple",
     "output_type": "error",
     "traceback": [
      "\u001b[0;31m---------------------------------------------------------------------------\u001b[0m",
      "\u001b[0;31mTypeError\u001b[0m                                 Traceback (most recent call last)",
      "\u001b[0;32m<ipython-input-17-828b52976ad5>\u001b[0m in \u001b[0;36m<module>\u001b[0;34m()\u001b[0m\n\u001b[0;32m----> 1\u001b[0;31m \u001b[0mdemo_list\u001b[0m \u001b[0;34m+\u001b[0m \u001b[0;36m10\u001b[0m\u001b[0;34m\u001b[0m\u001b[0m\n\u001b[0m",
      "\u001b[0;31mTypeError\u001b[0m: can only concatenate tuple (not \"int\") to tuple"
     ]
    }
   ],
   "source": [
    "demo_list + 10"
   ]
  },
  {
   "cell_type": "code",
   "execution_count": 18,
   "metadata": {},
   "outputs": [
    {
     "name": "stdout",
     "output_type": "stream",
     "text": [
      "[[1 2 3]\n",
      " [4 2 6]\n",
      " [3 8 9]]\n"
     ]
    }
   ],
   "source": [
    "# Multi Dimentional Array\n",
    "\n",
    "multidim_array = np.array(demo_list)\n",
    "print(multidim_array)"
   ]
  },
  {
   "cell_type": "code",
   "execution_count": 22,
   "metadata": {},
   "outputs": [
    {
     "data": {
      "text/plain": [
       "array([1, 2, 3, 4, 2, 6, 3, 8, 9])"
      ]
     },
     "execution_count": 22,
     "metadata": {},
     "output_type": "execute_result"
    }
   ],
   "source": [
    "multidim_array + 10\n",
    "multidim_array.flatten()"
   ]
  },
  {
   "cell_type": "code",
   "execution_count": 23,
   "metadata": {},
   "outputs": [
    {
     "data": {
      "text/plain": [
       "array([1, 2, 3, 4, 6, 8, 9])"
      ]
     },
     "execution_count": 23,
     "metadata": {},
     "output_type": "execute_result"
    }
   ],
   "source": [
    "np.unique(multidim_array)"
   ]
  },
  {
   "cell_type": "code",
   "execution_count": 31,
   "metadata": {},
   "outputs": [
    {
     "data": {
      "text/plain": [
       "7.061728395061728"
      ]
     },
     "execution_count": 31,
     "metadata": {},
     "output_type": "execute_result"
    }
   ],
   "source": [
    "# Statics of Multi Dimentional Array\n",
    "multidim_array.max()\n",
    "multidim_array.min()\n",
    "multidim_array.mean()\n",
    "multidim_array.std()\n",
    "multidim_array.var()"
   ]
  },
  {
   "cell_type": "code",
   "execution_count": 33,
   "metadata": {},
   "outputs": [
    {
     "name": "stdout",
     "output_type": "stream",
     "text": [
      "[[1 2 3]\n",
      " [4 2 6]\n",
      " [3 8 9]]\n",
      "\n",
      "\n",
      "[1 2 3]\n",
      "[4 2 6]\n",
      "[3 8 9]\n",
      "[3 6 9]\n",
      "[[1 2 3]\n",
      " [3 8 9]]\n"
     ]
    }
   ],
   "source": [
    "# Slicing of Multi Dimentional Array\n",
    "print(multidim_array)\n",
    "print('\\n')\n",
    "\n",
    "print(multidim_array[0])\n",
    "print(multidim_array[1])\n",
    "print(multidim_array[-1])\n",
    "print(multidim_array[:,2])\n",
    "print(multidim_array[::2])"
   ]
  },
  {
   "cell_type": "code",
   "execution_count": 34,
   "metadata": {},
   "outputs": [
    {
     "name": "stdout",
     "output_type": "stream",
     "text": [
      "(3, 3)\n",
      "9\n",
      "int64\n",
      "2\n"
     ]
    }
   ],
   "source": [
    "# Properties of Multi Dimentional Arry\n",
    "\n",
    "print(multidim_array.shape)   # np.shape(demo_array) \n",
    "print(multidim_array.size)     # np.size(demo_array)   # size(a, axis)\n",
    "print(multidim_array.dtype)\n",
    "print(multidim_array.ndim)     # np.ndim(demo_array)"
   ]
  },
  {
   "cell_type": "code",
   "execution_count": 55,
   "metadata": {},
   "outputs": [
    {
     "data": {
      "text/plain": [
       "array([0., 0., 0., 0., 0.])"
      ]
     },
     "execution_count": 55,
     "metadata": {},
     "output_type": "execute_result"
    }
   ],
   "source": [
    "np.zeros(5)"
   ]
  },
  {
   "cell_type": "code",
   "execution_count": 56,
   "metadata": {},
   "outputs": [
    {
     "data": {
      "text/plain": [
       "array([[0., 0.],\n",
       "       [0., 0.],\n",
       "       [0., 0.],\n",
       "       [0., 0.],\n",
       "       [0., 0.]])"
      ]
     },
     "execution_count": 56,
     "metadata": {},
     "output_type": "execute_result"
    }
   ],
   "source": [
    "np.zeros((5, 2))"
   ]
  },
  {
   "cell_type": "code",
   "execution_count": 57,
   "metadata": {},
   "outputs": [
    {
     "data": {
      "text/plain": [
       "array([[1., 1., 1., 1., 1.],\n",
       "       [1., 1., 1., 1., 1.]])"
      ]
     },
     "execution_count": 57,
     "metadata": {},
     "output_type": "execute_result"
    }
   ],
   "source": [
    "ones_array = np.ones((2, 5))\n",
    "ones_array"
   ]
  },
  {
   "cell_type": "code",
   "execution_count": 58,
   "metadata": {},
   "outputs": [
    {
     "data": {
      "text/plain": [
       "array([[0.78428823, 0.77972615],\n",
       "       [0.00258955, 0.63658468]])"
      ]
     },
     "execution_count": 58,
     "metadata": {},
     "output_type": "execute_result"
    }
   ],
   "source": [
    "np.random.rand(2,2)"
   ]
  },
  {
   "cell_type": "code",
   "execution_count": 59,
   "metadata": {},
   "outputs": [
    {
     "data": {
      "text/plain": [
       "array([[-0.96771552, -0.87025949, -0.47963387],\n",
       "       [-1.00464829,  1.46649906, -0.29547849]])"
      ]
     },
     "execution_count": 59,
     "metadata": {},
     "output_type": "execute_result"
    }
   ],
   "source": [
    "np.random.randn(2,3)  # Mean 0 and variance 1"
   ]
  },
  {
   "cell_type": "code",
   "execution_count": 61,
   "metadata": {},
   "outputs": [],
   "source": [
    "# Random Integer\n",
    "\n",
    "x1 = np.random.randint(10, size = 6)\n",
    "x2 = np.random.randint(10, size = (3, 4))\n",
    "x3 = np.random.randint(10, size = (3, 4, 5))"
   ]
  },
  {
   "cell_type": "code",
   "execution_count": 65,
   "metadata": {},
   "outputs": [
    {
     "data": {
      "text/plain": [
       "array([2, 6, 5, 9, 5, 8])"
      ]
     },
     "execution_count": 65,
     "metadata": {},
     "output_type": "execute_result"
    }
   ],
   "source": [
    "x1"
   ]
  },
  {
   "cell_type": "code",
   "execution_count": 66,
   "metadata": {},
   "outputs": [
    {
     "data": {
      "text/plain": [
       "array([[8, 2, 5, 5],\n",
       "       [2, 7, 7, 0],\n",
       "       [7, 0, 9, 5]])"
      ]
     },
     "execution_count": 66,
     "metadata": {},
     "output_type": "execute_result"
    }
   ],
   "source": [
    "x2"
   ]
  },
  {
   "cell_type": "code",
   "execution_count": 67,
   "metadata": {},
   "outputs": [
    {
     "data": {
      "text/plain": [
       "array([[[5, 5, 7, 4, 4],\n",
       "        [3, 4, 9, 9, 8],\n",
       "        [4, 3, 5, 9, 6],\n",
       "        [6, 5, 6, 5, 1]],\n",
       "\n",
       "       [[0, 6, 7, 1, 0],\n",
       "        [4, 0, 8, 8, 7],\n",
       "        [1, 4, 5, 8, 2],\n",
       "        [6, 4, 4, 9, 9]],\n",
       "\n",
       "       [[4, 9, 6, 7, 4],\n",
       "        [4, 1, 1, 7, 7],\n",
       "        [8, 4, 5, 5, 8],\n",
       "        [1, 7, 0, 7, 3]]])"
      ]
     },
     "execution_count": 67,
     "metadata": {},
     "output_type": "execute_result"
    }
   ],
   "source": [
    "x3"
   ]
  },
  {
   "cell_type": "code",
   "execution_count": null,
   "metadata": {},
   "outputs": [],
   "source": []
  }
 ],
 "metadata": {
  "kernelspec": {
   "display_name": "Python 3",
   "language": "python",
   "name": "python3"
  },
  "language_info": {
   "codemirror_mode": {
    "name": "ipython",
    "version": 3
   },
   "file_extension": ".py",
   "mimetype": "text/x-python",
   "name": "python",
   "nbconvert_exporter": "python",
   "pygments_lexer": "ipython3",
   "version": "3.6.6"
  }
 },
 "nbformat": 4,
 "nbformat_minor": 2
}
